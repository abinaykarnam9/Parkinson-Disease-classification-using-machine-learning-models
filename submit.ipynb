{
 "cells": [
  {
   "cell_type": "code",
   "execution_count": 7,
   "metadata": {},
   "outputs": [
    {
     "name": "stdout",
     "output_type": "stream",
     "text": [
      "thanks for entering data\n"
     ]
    },
    {
     "data": {
      "image/png": "[encoded data removed]",
      "text/plain": [
       "<Figure size 432x288 with 1 Axes>"
      ]
     },
     "metadata": {},
     "output_type": "display_data"
    }
   ],
   "source": [
    "import matplotlib.pyplot as plt\n",
    "import numpy as np\n",
    "print(\"thanks for entering data\")\n",
    "def data(x,y,id_num):\n",
    "    x = x\n",
    "    y = y\n",
    "    l = id_num\n",
    "\n",
    "    fig, ax = plt.subplots()\n",
    "    ax.scatter(x, y)\n",
    "\n",
    "    for i, lbl in enumerate(l):\n",
    "        ax.annotate(lbl, (x[i], y[i]))\n",
    "\n",
    "    plt.show()\n",
    "kp=open(\"C:/Users/Shiva Chandra/Documents/Project/datasets/data\",\"r\")\n",
    "sentences=[]\n",
    "for i in kp:\n",
    "    sentences.append(i)\n",
    "x=[]\n",
    "y=[]\n",
    "id_num=[]\n",
    "for i in sentences:\n",
    "    last_sentences=i.split(\" \")\n",
    "    id_num.append(int(last_sentences[0]))\n",
    "    x.append(float(last_sentences[1]))\n",
    "    y.append(float(last_sentences[2]))\n",
    "kp.close()\n",
    "data(x,y,id_num)"
   ]
  },
  {
   "cell_type": "code",
   "execution_count": null,
   "metadata": {},
   "outputs": [],
   "source": []
  }
 ],
 "metadata": {
  "kernelspec": {
   "display_name": "Python 3",
   "language": "python",
   "name": "python3"
  },
  "language_info": {
   "codemirror_mode": {
    "name": "ipython",
    "version": 3
   },
   "file_extension": ".py",
   "mimetype": "text/x-python",
   "name": "python",
   "nbconvert_exporter": "python",
   "pygments_lexer": "ipython3",
   "version": "3.5.5"
  }
 },
 "nbformat": 4,
 "nbformat_minor": 4
}
