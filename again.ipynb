{
 "cells": [
  {
   
   "cell_type": "code",
   "execution_count": null,
   "metadata": {},
   "outputs": [],
   "source": [
    "from tkinter import *\n",
    "top=Tk()\n",
    "top.geometry(\"500x250\")\n",
    "def sel1():\n",
    "    kp=open(\"C:/Users/Shiva Chandra/Documents/Project/datasets/new-data.txt\",\"r\")\n",
    "    sentences=[]\n",
    "    for x in kp:\n",
    "        sentences.append(x)\n",
    "    last_sentences=sentences[-1].split(\" \")\n",
    "    id_num=int(last_sentences[0])\n",
    "    kp.close()\n",
    "    print(id_num)\n",
    "    id_num=id_num+1\n",
    "    a=float(e1.get())\n",
    "    b=float(e2.get())\n",
    "    fp=open(\"C:/Users/Shiva Chandra/Documents/Project/datasets/new-data.txt\",\"a+\")\n",
    "    fp.write(\"\\n\"+str(id_num)+\" \"+str(a)+\" \"+str(b))\n",
    "    fp.close()\n",
    "\n",
    "def sel2():\n",
    "    kp=open(\"C:/Users/Shiva Chandra/Documents/Project/datasets/new-data.txt\",\"r\")\n",
    "    sentences=[]\n",
    "    for x in kp:\n",
    "        sentences.append(x)\n",
    "    last_sentences=sentences[-1].split(\" \")\n",
    "    id_num=int(last_sentences[0])\n",
    "    kp.close()\n",
    "    print(id_num)\n",
    "    id_num=id_num+1\n",
    "    a=float(e1.get())\n",
    "    b=float(e2.get())\n",
    "    fp=open(\"C:/Users/Shiva Chandra/Documents/Project/datasets/new-data.txt\",\"a+\")\n",
    "    fp.write(\"\\n\"+str(id_num)+\" \"+str(a)+\" \"+str(b))\n",
    "    fp.close()\n",
    "    top.destroy()\n",
    "    import submit\n",
    "\n",
    "\n",
    "top.title(\"    Data    \")\n",
    "\n",
    "l1=Label(top,text=\"Position of City\")\n",
    "l1.grid(row=2,column=2)\n",
    "\n",
    "e1=Entry(top,bd=5)\n",
    "e1.grid(row=2,column=5)\n",
    "\n",
    "e2=Entry(top,bd=5)\n",
    "e2.grid(row=2,column=9)\n",
    "\n",
    "b1=Button(top,bd=10,text=\"Again\",command=sel1)\n",
    "b1.grid(row=10,column=3)\n",
    "\n",
    "b2=Button(top,bd=10,text=\"SUBMIT\",command=sel2)\n",
    "b2.grid(row=10,column=5)\n",
    "\n",
    "top.mainloop()\n"
   ]
  }
 ],
 "metadata": {
  "kernelspec": {
   "display_name": "Python 3",
   "language": "python",
   "name": "python3"
  },
  "language_info": {
   "codemirror_mode": {
    "name": "ipython",
    "version": 3
   },
   "file_extension": ".py",
   "mimetype": "text/x-python",
   "name": "python",
   "nbconvert_exporter": "python",
   "pygments_lexer": "ipython3",
   "version": "3.5.5"
  }
 },
 "nbformat": 4,
 "nbformat_minor": 4
}
